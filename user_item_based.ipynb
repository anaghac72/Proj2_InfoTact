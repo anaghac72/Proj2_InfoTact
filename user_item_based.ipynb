{
 "cells": [
  {
   "cell_type": "code",
   "execution_count": 1,
   "id": "30fe7962",
   "metadata": {},
   "outputs": [],
   "source": [
    "import pandas as pd\n",
    "import numpy as np"
   ]
  },
  {
   "cell_type": "code",
   "execution_count": 10,
   "id": "15ac59bd",
   "metadata": {},
   "outputs": [],
   "source": [
    "import pandas as pd"
   ]
  },
  {
   "cell_type": "code",
   "execution_count": 2,
   "id": "eb07f2f6",
   "metadata": {},
   "outputs": [],
   "source": [
    "# Load the main files\n",
    "books = pd.read_csv(r\"C:\\Users\\anagh\\OneDrive\\Desktop\\Python\\InfoTact\\Proj2_InfoTact\\Dataset\\raw\\books.csv\")\n",
    "ratings = pd.read_csv(r\"C:\\Users\\anagh\\OneDrive\\Desktop\\Python\\InfoTact\\Proj2_InfoTact\\Dataset\\raw\\ratings.csv\")\n",
    "book_tags = pd.read_csv(r\"C:\\Users\\anagh\\OneDrive\\Desktop\\Python\\InfoTact\\Proj2_InfoTact\\Dataset\\raw\\book_tags.csv\")\n",
    "tags = pd.read_csv(r\"C:\\Users\\anagh\\OneDrive\\Desktop\\Python\\InfoTact\\Proj2_InfoTact\\Dataset\\raw\\tags.csv\")\n",
    "to_read = pd.read_csv(r\"C:\\Users\\anagh\\OneDrive\\Desktop\\Python\\InfoTact\\Proj2_InfoTact\\Dataset\\raw\\to_read.csv\")"
   ]
  },
  {
   "cell_type": "code",
   "execution_count": 3,
   "id": "ad726897",
   "metadata": {},
   "outputs": [],
   "source": [
    "# 1. Build User-Item Matrix\n",
    "user_item_matrix = ratings.pivot_table(index='user_id', columns='book_id', values='rating')\n",
    "\n",
    "# 2. User-based Collaborative Filtering\n",
    "from sklearn.metrics.pairwise import cosine_similarity\n",
    "user_similarity = cosine_similarity(user_item_matrix.fillna(0))\n",
    "user_sim_df = pd.DataFrame(user_similarity, index=user_item_matrix.index, columns=user_item_matrix.index)\n",
    "\n",
    "# 3. Item-based Collaborative Filtering\n",
    "item_similarity = cosine_similarity(user_item_matrix.fillna(0).T)\n",
    "item_sim_df = pd.DataFrame(item_similarity, index=user_item_matrix.columns, columns=user_item_matrix.columns)"
   ]
  },
  {
   "cell_type": "code",
   "execution_count": 4,
   "id": "0711e669",
   "metadata": {},
   "outputs": [],
   "source": [
    "# 4. Matrix Factorization Models\n",
    "from sklearn.decomposition import TruncatedSVD, NMF\n",
    "\n",
    "svd = TruncatedSVD(n_components=20, random_state=42)\n",
    "svd_matrix = svd.fit_transform(user_item_matrix.fillna(0))\n",
    "\n",
    "nmf = NMF(n_components=20, init='random', random_state=42)\n",
    "nmf_matrix = nmf.fit_transform(user_item_matrix.fillna(0))"
   ]
  }
 ],
 "metadata": {
  "kernelspec": {
   "display_name": "Python 3",
   "language": "python",
   "name": "python3"
  },
  "language_info": {
   "codemirror_mode": {
    "name": "ipython",
    "version": 3
   },
   "file_extension": ".py",
   "mimetype": "text/x-python",
   "name": "python",
   "nbconvert_exporter": "python",
   "pygments_lexer": "ipython3",
   "version": "3.11.9"
  }
 },
 "nbformat": 4,
 "nbformat_minor": 5
}
